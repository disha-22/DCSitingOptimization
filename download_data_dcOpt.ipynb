{
 "cells": [
  {
   "cell_type": "code",
   "execution_count": 1,
   "id": "41bf49c7",
   "metadata": {},
   "outputs": [
    {
     "name": "stderr",
     "output_type": "stream",
     "text": [
      "/Library/Frameworks/Python.framework/Versions/3.10/lib/python3.10/site-packages/restapi/common_types.py:42: UserWarning: No Arcpy found, some limitations in functionality may apply.\n",
      "  warnings.warn('No Arcpy found, some limitations in functionality may apply.')\n"
     ]
    }
   ],
   "source": [
    "# geospatial analysis\n",
    "import restapi # downloading data"
   ]
  },
  {
   "cell_type": "code",
   "execution_count": 7,
   "id": "2ebe8200",
   "metadata": {},
   "outputs": [],
   "source": [
    "# download Southern California Edison data\n",
    "# sce_url = \"https://drpep.sce.com/arcgis_server/rest/services/Hosted/AVL_LOAD_CAP_TOGGLE/FeatureServer/1\"\n",
    "sce_url = \"https://drpep.sce.com/arcgis_server/rest/services/Hosted/AVL_LOAD_CAP_TOGGLE/FeatureServer/0\"\n",
    "sce_layer = restapi.FeatureLayer(sce_url)\n",
    "# sce_layer.export_layer(\"Data/Hosting_Capacity/sce.geojson\")"
   ]
  },
  {
   "cell_type": "code",
   "execution_count": 8,
   "id": "61a4bf7e",
   "metadata": {},
   "outputs": [
    {
     "data": {
      "text/plain": [
       "<FeatureLayer: \"AVL_LOAD_CAP_FULL_SUBMITTAL\" (id: 0)>"
      ]
     },
     "execution_count": 8,
     "metadata": {},
     "output_type": "execute_result"
    }
   ],
   "source": [
    "sce_layer"
   ]
  },
  {
   "cell_type": "code",
   "execution_count": null,
   "id": "0027cfed",
   "metadata": {},
   "outputs": [],
   "source": []
  }
 ],
 "metadata": {
  "kernelspec": {
   "display_name": "Python 3",
   "language": "python",
   "name": "python3"
  },
  "language_info": {
   "codemirror_mode": {
    "name": "ipython",
    "version": 3
   },
   "file_extension": ".py",
   "mimetype": "text/x-python",
   "name": "python",
   "nbconvert_exporter": "python",
   "pygments_lexer": "ipython3",
   "version": "3.10.2"
  }
 },
 "nbformat": 4,
 "nbformat_minor": 5
}
