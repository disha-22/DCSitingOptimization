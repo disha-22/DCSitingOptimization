{
 "cells": [
  {
   "cell_type": "code",
   "execution_count": 1,
   "id": "41bf49c7",
   "metadata": {},
   "outputs": [
    {
     "name": "stderr",
     "output_type": "stream",
     "text": [
      "/Library/Frameworks/Python.framework/Versions/3.10/lib/python3.10/site-packages/restapi/common_types.py:42: UserWarning: No Arcpy found, some limitations in functionality may apply.\n",
      "  warnings.warn('No Arcpy found, some limitations in functionality may apply.')\n"
     ]
    }
   ],
   "source": [
    "# geospatial analysis\n",
    "import restapi # downloading data"
   ]
  },
  {
   "cell_type": "code",
   "execution_count": 6,
   "id": "2ebe8200",
   "metadata": {},
   "outputs": [
    {
     "ename": "HTTPError",
     "evalue": "500 Server Error: Internal Server Error for url: https://drpep.sce.com/arcgis_server/rest/services/Hosted/AVL_LOAD_CAP_TOGGLE/FeatureServer/0/query?returnGeometry=true&where=1%3D1&f=geojson&outSR=PROJCS%5B%22UTM_with_NAD83_datum_Zone_11_US_Foot_Central_Meridian_117d_W%22%2CGEOGCS%5B%22GCS_North_American_Datum_1983%22%2CDATUM%5B%22D_North_American_1983%22%2CSPHEROID%5B%22Geodetic_Reference_System_of_1980%22%2C6378137.0%2C298.257222100892%5D%5D%2CPRIMEM%5B%22Greenwich%22%2C0.0%5D%2CUNIT%5B%22Degree%22%2C0.0174532925199433%5D%5D%2CPROJECTION%5B%22Transverse_Mercator%22%5D%2CPARAMETER%5B%22False_Easting%22%2C1640416.66666667%5D%2CPARAMETER%5B%22False_Northing%22%2C0.0%5D%2CPARAMETER%5B%22Central_Meridian%22%2C-117.0%5D%2CPARAMETER%5B%22Scale_Factor%22%2C0.9996%5D%2CPARAMETER%5B%22Latitude_Of_Origin%22%2C0.0%5D%2CUNIT%5B%22Foot_US%22%2C0.3048006096012192%5D%5D&outFields=%2A",
     "output_type": "error",
     "traceback": [
      "\u001b[0;31m---------------------------------------------------------------------------\u001b[0m",
      "\u001b[0;31mHTTPError\u001b[0m                                 Traceback (most recent call last)",
      "Input \u001b[0;32mIn [6]\u001b[0m, in \u001b[0;36m<module>\u001b[0;34m\u001b[0m\n\u001b[1;32m      3\u001b[0m sce_url \u001b[38;5;241m=\u001b[39m \u001b[38;5;124m\"\u001b[39m\u001b[38;5;124mhttps://drpep.sce.com/arcgis_server/rest/services/Hosted/AVL_LOAD_CAP_TOGGLE/FeatureServer/0\u001b[39m\u001b[38;5;124m\"\u001b[39m\n\u001b[1;32m      4\u001b[0m sce_layer \u001b[38;5;241m=\u001b[39m restapi\u001b[38;5;241m.\u001b[39mFeatureLayer(sce_url)\n\u001b[0;32m----> 5\u001b[0m \u001b[43msce_layer\u001b[49m\u001b[38;5;241;43m.\u001b[39;49m\u001b[43mexport_layer\u001b[49m\u001b[43m(\u001b[49m\u001b[38;5;124;43m\"\u001b[39;49m\u001b[38;5;124;43mData/Hosting_Capacity/sce.geojson\u001b[39;49m\u001b[38;5;124;43m\"\u001b[39;49m\u001b[43m)\u001b[49m\n",
      "File \u001b[0;32m/Library/Frameworks/Python.framework/Versions/3.10/lib/python3.10/site-packages/restapi/common_types.py:2151\u001b[0m, in \u001b[0;36mMapServiceLayer.export_layer\u001b[0;34m(self, out_fc, fields, where, records, exceed_limit, sr, include_domains, include_attachments, qualified_fieldnames, chunk_size, **kwargs)\u001b[0m\n\u001b[1;32m   2146\u001b[0m     \u001b[38;5;28;01mreturn\u001b[39;00m out_fc\n\u001b[1;32m   2148\u001b[0m \u001b[38;5;28;01melse\u001b[39;00m:\n\u001b[1;32m   2149\u001b[0m \n\u001b[1;32m   2150\u001b[0m     \u001b[38;5;66;03m# do query to get feature set\u001b[39;00m\n\u001b[0;32m-> 2151\u001b[0m     fs \u001b[38;5;241m=\u001b[39m \u001b[38;5;28;43mself\u001b[39;49m\u001b[38;5;241;43m.\u001b[39;49m\u001b[43mquery\u001b[49m\u001b[43m(\u001b[49m\u001b[43mwhere\u001b[49m\u001b[43m,\u001b[49m\u001b[43m \u001b[49m\u001b[43mfields\u001b[49m\u001b[43m,\u001b[49m\u001b[43m \u001b[49m\u001b[43mrecords\u001b[49m\u001b[43m,\u001b[49m\u001b[43m \u001b[49m\u001b[43mexceed_limit\u001b[49m\u001b[43m,\u001b[49m\u001b[43m \u001b[49m\u001b[38;5;241;43m*\u001b[39;49m\u001b[38;5;241;43m*\u001b[39;49m\u001b[43mkwargs\u001b[49m\u001b[43m)\u001b[49m\n\u001b[1;32m   2152\u001b[0m     \u001b[38;5;28;01mif\u001b[39;00m \u001b[38;5;129;01mnot\u001b[39;00m fs\u001b[38;5;241m.\u001b[39mfeatures:\n\u001b[1;32m   2153\u001b[0m         \u001b[38;5;28mprint\u001b[39m(\u001b[38;5;124m'\u001b[39m\u001b[38;5;124mNo records to fetch\u001b[39m\u001b[38;5;124m'\u001b[39m)\n",
      "File \u001b[0;32m/Library/Frameworks/Python.framework/Versions/3.10/lib/python3.10/site-packages/restapi/common_types.py:1774\u001b[0m, in \u001b[0;36mMapServiceLayer.query\u001b[0;34m(self, where, fields, records, exceed_limit, fetch_in_chunks, f, kmz, chunk_size, **kwargs)\u001b[0m\n\u001b[1;32m   1771\u001b[0m     \u001b[38;5;28;01mif\u001b[39;00m \u001b[38;5;28misinstance\u001b[39m(records, \u001b[38;5;28mint\u001b[39m) \u001b[38;5;129;01mand\u001b[39;00m \u001b[38;5;28mstr\u001b[39m(\u001b[38;5;28mself\u001b[39m\u001b[38;5;241m.\u001b[39mcurrentVersion) \u001b[38;5;241m>\u001b[39m\u001b[38;5;241m=\u001b[39m \u001b[38;5;124m'\u001b[39m\u001b[38;5;124m10.3\u001b[39m\u001b[38;5;124m'\u001b[39m:\n\u001b[1;32m   1772\u001b[0m         params[RESULT_RECORD_COUNT] \u001b[38;5;241m=\u001b[39m records\n\u001b[0;32m-> 1774\u001b[0m     server_response \u001b[38;5;241m=\u001b[39m \u001b[38;5;28;43mself\u001b[39;49m\u001b[38;5;241;43m.\u001b[39;49m\u001b[43mrequest\u001b[49m\u001b[43m(\u001b[49m\u001b[43mquery_url\u001b[49m\u001b[43m,\u001b[49m\u001b[43m \u001b[49m\u001b[43mparams\u001b[49m\u001b[43m)\u001b[49m\n\u001b[1;32m   1775\u001b[0m \u001b[38;5;28;01mreturn\u001b[39;00m \u001b[38;5;28mself\u001b[39m\u001b[38;5;241m.\u001b[39m_format_server_response(server_response, records)\n",
      "File \u001b[0;32m/Library/Frameworks/Python.framework/Versions/3.10/lib/python3.10/site-packages/restapi/rest_utils.py:1024\u001b[0m, in \u001b[0;36mRESTEndpoint.request\u001b[0;34m(self, *args, **kwargs)\u001b[0m\n\u001b[1;32m   1021\u001b[0m     kwargs[\u001b[38;5;124m'\u001b[39m\u001b[38;5;124mret_json\u001b[39m\u001b[38;5;124m'\u001b[39m] \u001b[38;5;241m=\u001b[39m \u001b[38;5;28;01mTrue\u001b[39;00m\n\u001b[1;32m   1023\u001b[0m kwargs[\u001b[38;5;124m'\u001b[39m\u001b[38;5;124mclient\u001b[39m\u001b[38;5;124m'\u001b[39m] \u001b[38;5;241m=\u001b[39m \u001b[38;5;28mself\u001b[39m\u001b[38;5;241m.\u001b[39mclient\n\u001b[0;32m-> 1024\u001b[0m \u001b[38;5;28;01mreturn\u001b[39;00m \u001b[43mdo_request\u001b[49m\u001b[43m(\u001b[49m\u001b[38;5;241;43m*\u001b[39;49m\u001b[43margs\u001b[49m\u001b[43m,\u001b[49m\u001b[43m \u001b[49m\u001b[38;5;241;43m*\u001b[39;49m\u001b[38;5;241;43m*\u001b[39;49m\u001b[43mkwargs\u001b[49m\u001b[43m)\u001b[49m\n",
      "File \u001b[0;32m/Library/Frameworks/Python.framework/Versions/3.10/lib/python3.10/site-packages/restapi/rest_utils.py:385\u001b[0m, in \u001b[0;36mdo_request\u001b[0;34m(service, params, ret_json, token, cookies, proxy, referer, client, method, **kwargs)\u001b[0m\n\u001b[1;32m    383\u001b[0m \u001b[38;5;66;03m# make sure return\u001b[39;00m\n\u001b[1;32m    384\u001b[0m \u001b[38;5;28;01mif\u001b[39;00m r\u001b[38;5;241m.\u001b[39mstatus_code \u001b[38;5;241m!=\u001b[39m \u001b[38;5;241m200\u001b[39m:\n\u001b[0;32m--> 385\u001b[0m     \u001b[38;5;28;01mraise\u001b[39;00m \u001b[38;5;167;01mNameError\u001b[39;00m(\u001b[38;5;124m'\u001b[39m\u001b[38;5;124m\"\u001b[39m\u001b[38;5;132;01m{0}\u001b[39;00m\u001b[38;5;124m\"\u001b[39m\u001b[38;5;124m service not found!\u001b[39m\u001b[38;5;130;01m\\n\u001b[39;00m\u001b[38;5;132;01m{1}\u001b[39;00m\u001b[38;5;124m'\u001b[39m\u001b[38;5;241m.\u001b[39mformat(service, \u001b[43mr\u001b[49m\u001b[38;5;241;43m.\u001b[39;49m\u001b[43mraise_for_status\u001b[49m\u001b[43m(\u001b[49m\u001b[43m)\u001b[49m))\n\u001b[1;32m    386\u001b[0m \u001b[38;5;28;01melse\u001b[39;00m:\n\u001b[1;32m    387\u001b[0m     \u001b[38;5;28;01mif\u001b[39;00m ret_json:\u001b[38;5;66;03m# is True and params.get(F) in (JSON, PJSON):\u001b[39;00m\n",
      "File \u001b[0;32m~/Library/Python/3.10/lib/python/site-packages/requests/models.py:1021\u001b[0m, in \u001b[0;36mResponse.raise_for_status\u001b[0;34m(self)\u001b[0m\n\u001b[1;32m   1016\u001b[0m     http_error_msg \u001b[38;5;241m=\u001b[39m (\n\u001b[1;32m   1017\u001b[0m         \u001b[38;5;124mf\u001b[39m\u001b[38;5;124m\"\u001b[39m\u001b[38;5;132;01m{\u001b[39;00m\u001b[38;5;28mself\u001b[39m\u001b[38;5;241m.\u001b[39mstatus_code\u001b[38;5;132;01m}\u001b[39;00m\u001b[38;5;124m Server Error: \u001b[39m\u001b[38;5;132;01m{\u001b[39;00mreason\u001b[38;5;132;01m}\u001b[39;00m\u001b[38;5;124m for url: \u001b[39m\u001b[38;5;132;01m{\u001b[39;00m\u001b[38;5;28mself\u001b[39m\u001b[38;5;241m.\u001b[39murl\u001b[38;5;132;01m}\u001b[39;00m\u001b[38;5;124m\"\u001b[39m\n\u001b[1;32m   1018\u001b[0m     )\n\u001b[1;32m   1020\u001b[0m \u001b[38;5;28;01mif\u001b[39;00m http_error_msg:\n\u001b[0;32m-> 1021\u001b[0m     \u001b[38;5;28;01mraise\u001b[39;00m HTTPError(http_error_msg, response\u001b[38;5;241m=\u001b[39m\u001b[38;5;28mself\u001b[39m)\n",
      "\u001b[0;31mHTTPError\u001b[0m: 500 Server Error: Internal Server Error for url: https://drpep.sce.com/arcgis_server/rest/services/Hosted/AVL_LOAD_CAP_TOGGLE/FeatureServer/0/query?returnGeometry=true&where=1%3D1&f=geojson&outSR=PROJCS%5B%22UTM_with_NAD83_datum_Zone_11_US_Foot_Central_Meridian_117d_W%22%2CGEOGCS%5B%22GCS_North_American_Datum_1983%22%2CDATUM%5B%22D_North_American_1983%22%2CSPHEROID%5B%22Geodetic_Reference_System_of_1980%22%2C6378137.0%2C298.257222100892%5D%5D%2CPRIMEM%5B%22Greenwich%22%2C0.0%5D%2CUNIT%5B%22Degree%22%2C0.0174532925199433%5D%5D%2CPROJECTION%5B%22Transverse_Mercator%22%5D%2CPARAMETER%5B%22False_Easting%22%2C1640416.66666667%5D%2CPARAMETER%5B%22False_Northing%22%2C0.0%5D%2CPARAMETER%5B%22Central_Meridian%22%2C-117.0%5D%2CPARAMETER%5B%22Scale_Factor%22%2C0.9996%5D%2CPARAMETER%5B%22Latitude_Of_Origin%22%2C0.0%5D%2CUNIT%5B%22Foot_US%22%2C0.3048006096012192%5D%5D&outFields=%2A"
     ]
    }
   ],
   "source": [
    "# download Southern California Edison data\n",
    "# sce_url = \"https://drpep.sce.com/arcgis_server/rest/services/Hosted/AVL_LOAD_CAP_TOGGLE/FeatureServer/1\"\n",
    "sce_url = \"https://drpep.sce.com/arcgis_server/rest/services/Hosted/AVL_LOAD_CAP_TOGGLE/FeatureServer/0\"\n",
    "sce_layer = restapi.FeatureLayer(sce_url)\n",
    "sce_layer.export_layer(\"Data/Hosting_Capacity/sce.geojson\")"
   ]
  },
  {
   "cell_type": "code",
   "execution_count": null,
   "id": "61a4bf7e",
   "metadata": {},
   "outputs": [],
   "source": []
  }
 ],
 "metadata": {
  "kernelspec": {
   "display_name": "Python 3",
   "language": "python",
   "name": "python3"
  },
  "language_info": {
   "codemirror_mode": {
    "name": "ipython",
    "version": 3
   },
   "file_extension": ".py",
   "mimetype": "text/x-python",
   "name": "python",
   "nbconvert_exporter": "python",
   "pygments_lexer": "ipython3",
   "version": "3.10.2"
  }
 },
 "nbformat": 4,
 "nbformat_minor": 5
}
