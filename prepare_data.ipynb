{
 "cells": [
  {
   "cell_type": "markdown",
   "id": "ea83a817",
   "metadata": {},
   "source": [
    "### Import Packages"
   ]
  },
  {
   "cell_type": "code",
   "execution_count": 29,
   "id": "e2960d3d",
   "metadata": {},
   "outputs": [],
   "source": [
    "# work with geospatial data\n",
    "import geopandas as gpd\n",
    "import pandas as pd\n",
    "from pyproj import Proj, Transformer\n",
    "\n",
    "# work with files\n",
    "import os\n",
    "import yaml\n",
    "\n",
    "# work with data\n",
    "import xarray as xr\n",
    "\n",
    "# work with time\n",
    "import pytz\n",
    "\n",
    "# util functions\n",
    "from geospatial_utils import *"
   ]
  },
  {
   "cell_type": "markdown",
   "id": "909be1f8",
   "metadata": {},
   "source": [
    "### Essential Variables"
   ]
  },
  {
   "cell_type": "code",
   "execution_count": null,
   "id": "8d48c0e2",
   "metadata": {},
   "outputs": [],
   "source": [
    "# essential variables\n",
    "\n",
    "# transform centroid to lat and lon\n",
    "transformer = Transformer.from_crs(5070, 4326)\n",
    "transformer_inv = Transformer.from_crs(4326, 5070)\n",
    "\n",
    "# let's try to convert everything to EPSG:5070. For more accurate area measurements\n",
    "\n",
    "# boundary for state of California\n",
    "us_states = gpd.read_file(\"Data/Boundaries/cb_2018_us_state_500k/cb_2018_us_state_500k.shp\")\n",
    "us_states.to_crs(\"EPSG:5070\", inplace=True)\n",
    "ca_state = us_states[us_states[\"STUSPS\"] == \"CA\"]\n",
    "\n",
    "# California counties\n",
    "us_counties = gpd.read_file(\"Data/Boundaries/cb_2018_us_county_500k/cb_2018_us_county_500k.shp\")\n",
    "ca_counties = us_counties[us_counties[\"STATEFP\"] == \"06\"]\n",
    "\n",
    "# HUC8 subbasins\n",
    "if not os.path.exists(\"Data/Boundaries/ca_HUC8.geojson\"):\n",
    "    huc8 = gpd.read_file(\"Data/Boundaries/HUC8_CONUS/HUC8_US.shp\")\n",
    "    huc8.to_crs(\"EPSG:5070\", inplace=True)\n",
    "    huc8['CA'] = huc8[\"STATES\"].map(lambda x: \"CA\" in x)\n",
    "    huc8 = huc8[huc8[\"CA\"]]\n",
    "\n",
    "    # intersect with California\n",
    "    huc8_ca = gpd.clip(huc8, ca_state)\n",
    "\n",
    "    # compute centroid locations\n",
    "    huc8_ca['centroid'] = huc8_ca.to_crs(\"+proj=cea\").centroid.to_crs(huc8_ca.crs)\n",
    "    huc8_ca['centroid_lat_lon'] = huc8_ca['centroid'].map(lambda pt: transformer.transform(pt.x, pt.y))\n",
    "    huc8_ca['centroid_lat'] = huc8_ca['centroid_lat_lon'].map(lambda x: x[0])\n",
    "    huc8_ca['centroid_lon'] = huc8_ca['centroid_lat_lon'].map(lambda x: x[1])\n",
    "    huc8_ca.drop(columns=['centroid', 'centroid_lat_lon'], inplace=True) # avoid multiple geometry columns to avoid confusion\n",
    "\n",
    "    huc8_ca.to_file(\"Data/Boundaries/ca_HUC8.geojson\", driver=\"GeoJSON\")\n",
    "else:\n",
    "    huc8_ca = gpd.read_file(\"Data/Boundaries/ca_HUC8.geojson\")"
   ]
  },
  {
   "cell_type": "markdown",
   "id": "f673bd5c",
   "metadata": {},
   "source": [
    "Convert electricity prices to HUC8 subbasin level"
   ]
  },
  {
   "cell_type": "code",
   "execution_count": null,
   "id": "92bd6a4e",
   "metadata": {},
   "outputs": [],
   "source": [
    "ca_county_prices = gpd.read_file(\"Data/Boundaries/ca_counties.geojson\")\n",
    "\n",
    "ca_county_prices = ca_county_prices[~ca_county_prices[\"Electricity Price ($/MWh)\"].isna()]\n",
    "\n",
    "# convert electricity prices from county level to HUC8 level data\n",
    "prices_county_to_huc8 = resolve_regions(ca_county_prices, huc8_ca, \"Electricity Price ($/MWh)\", \"HUC8\")\n",
    "\n",
    "prices_county_to_huc8.convert_regions()"
   ]
  },
  {
   "cell_type": "markdown",
   "id": "6c72a89d",
   "metadata": {},
   "source": [
    "Compute solar capacity factor from DNI, DHI, GHI"
   ]
  },
  {
   "cell_type": "markdown",
   "id": "2297f313",
   "metadata": {},
   "source": [
    "Currently, we are keeping the time zone as UTC. We will be careful when doing the conversion to insolation on the solar panel though."
   ]
  },
  {
   "cell_type": "code",
   "execution_count": 45,
   "id": "1f1420a4",
   "metadata": {},
   "outputs": [],
   "source": [
    "ca_solar = xr.open_dataset('Data/Solar/ca_irradiation.nc4')\n",
    "# np.load(\"Data/Solar/ca_irradiation.npz\")\n",
    "# time_index = pd.DatetimeIndex(ca_solar['time_index'])\n",
    "\n",
    "# delta_time = (time_index[1] - time_index[0]).total_seconds()/3600 # time step, in hours\n",
    "delta_time = pd.Timedelta(ca_solar.Time.values[1] - ca_solar.Time.values[0]).total_seconds()/3600 # time step, in hours\n",
    "agg_number = 24/delta_time # number of time steps to aggregate to get a full day\n",
    "\n",
    "dni_subbasins = ca_solar['DNI']\n",
    "dhi_subbasins = ca_solar['DHI']\n",
    "ghi_subbasins = ca_solar['GHI']\n",
    "time_offset = ca_solar.attrs['Timezone']\n",
    "time_index = ca_solar.Time.values # recall that these time values are in UTC"
   ]
  },
  {
   "cell_type": "code",
   "execution_count": null,
   "id": "7e45bafc",
   "metadata": {},
   "outputs": [],
   "source": [
    "# calculate the beta angle at each point.\n",
    "\n",
    "# CA_time = pytz.timezone('America/Los_Angeles')\n",
    "\n",
    "beta_angles = np.zeros((time_index.shape[0], huc8_ca.shape[0]))\n",
    "\n",
    "azimuth_angles = np.zeros((time_index.shape[0], huc8_ca.shape[0]))\n",
    "\n",
    "# get local clock time\n",
    "# curr_times = time_index.map(lambda x: x.astimezone(CA_time))\n",
    "\n",
    "for idx, (_, row) in enumerate(huc8_ca.iterrows()):\n",
    "    curr_betas = []\n",
    "    curr_azimuths = []\n",
    "    \n",
    "    centroid_lat = row['centroid_lat']\n",
    "    centroid_lon = row['centroid_lon']\n",
    "\n",
    "    # longitude correction. local meridian is 120 degrees for California\n",
    "    # TODO I wonder if we can generalize this - to easily calculate for any location\n",
    "    longitude_add = 4*(120 - centroid_lon)\n",
    "\n",
    "    # for stamp in curr_times:\n",
    "    for stamp, offset in zip(time_index, time_offset):\n",
    "        # get current LOCAL TIME hour and day\n",
    "        stamp = stamp + pd.Timedelta(offset, unit='hour') # add the appropriate time offset \n",
    "        hour = stamp.timetuple().tm_hour + (1/60)*stamp.timetuple().tm_minute\n",
    "        day = stamp.timetuple().tm_yday\n",
    "               \n",
    "        # adding factor: equation of time\n",
    "        time_input = (360/364)*(day-81)\n",
    "        E = 9.87*np.sin(2*time_input*(2*np.pi/360)) - 7.53*np.cos(time_input*(2*np.pi/360)) - 1.5*np.sin(time_input*(2*np.pi/360))\n",
    "        \n",
    "        # get the hour angle\n",
    "        H = 15*(12 - (hour + longitude_add/60 + E/60))\n",
    "        \n",
    "        declination = 23.45*np.sin((360/365)*(day - 81)*(2*np.pi/360))\n",
    "\n",
    "        sin_beta = np.cos(centroid_lat*(2*np.pi/360))*np.cos(declination*(2*np.pi/360))*np.cos(H*(2*np.pi/360)) + np.sin(centroid_lat*(2*np.pi/360))*np.sin(declination*(2*np.pi/360))\n",
    "\n",
    "        beta = np.arcsin(sin_beta)*(360/(2*np.pi))\n",
    "\n",
    "        curr_betas.append(beta)\n",
    "\n",
    "        sin_azimuth = (np.cos(declination*(2*np.pi/360))*np.sin(H*(2*np.pi/360)))/np.cos(beta*(2*np.pi/360))\n",
    "\n",
    "        azimuth = np.arcsin(sin_azimuth)*(360/(2*np.pi))\n",
    "\n",
    "        curr_azimuths.append(azimuth)\n",
    "\n",
    "    beta_angles[:, idx] = np.array(curr_betas) # in degrees\n",
    "\n",
    "    azimuth_angles[:, idx] = np.array(curr_azimuths) # in degrees"
   ]
  },
  {
   "cell_type": "code",
   "execution_count": null,
   "id": "5d4216ce",
   "metadata": {},
   "outputs": [],
   "source": [
    "# putting it all together to calculate solar energy production\n",
    "\n",
    "cos_theta = np.sqrt(1 - (np.cos(beta_angles*(2*np.pi/360)) * np.cos(azimuth_angles*(2*np.pi/360)))**2)\n",
    "\n",
    "rho = 0.2 # a typical value for ground reflectivity\n",
    "\n",
    "I_BC = dni_subbasins * cos_theta # beam insolation on collector\n",
    "\n",
    "I_DC = dhi_subbasins * ((1 + (np.sin(beta_angles*(2*np.pi/360)) / cos_theta))/2) # diffuse insolation on collector\n",
    "\n",
    "I_RC = ghi_subbasins * rho * ((1 - (np.sin(beta_angles*(2*np.pi/360)) / cos_theta))/2) # reflected insolation on collector\n",
    "\n",
    "total_insolation = I_BC + I_DC + I_RC"
   ]
  },
  {
   "cell_type": "code",
   "execution_count": null,
   "id": "ebd6a7c3",
   "metadata": {},
   "outputs": [],
   "source": [
    "# aggregate the insolation values into days\n",
    "total_insolation = total_insolation.reshape((ghi_subbasins.shape[0]//agg_number, agg_number, huc8_ca.shape[0])) # shape is (# days, # time steps in a day, # HUC8 subbasins)\n",
    "\n",
    "# sum across axis 1 (the time steps in the day) to get daily insolation\n",
    "total_insolation = total_insolation.sum(axis=1)*delta_time # W/(m^2 * day)."
   ]
  },
  {
   "cell_type": "code",
   "execution_count": null,
   "id": "96ebfea5",
   "metadata": {},
   "outputs": [],
   "source": [
    "# save solar data\n",
    "insolation_df = pd.DataFrame(total_insolation)\n",
    "insolation_df.to_csv(\"Data/Solar/insolation_CA.csv\") # W/(m^2 * day)"
   ]
  },
  {
   "cell_type": "code",
   "execution_count": null,
   "id": "28394169",
   "metadata": {},
   "outputs": [],
   "source": [
    "# now think about generation per watt of capacity, per day\n",
    "insolation_df = pd.read_csv(\"Data/Solar/insolation_CA.csv\", index_col=0)\n",
    "insolation_df_per_watt = insolation_df/1000 # TODO verify this is correct. we divide by 1000 to get a per-watt measurement. https://www.greenlancer.com/post/solar-panel-wattage-output-explained#:~:text=A%20solar%20panel%20rating%20measures,sunlight%20at%201000W%2Fsquare%20meters.\n",
    "insolation_df_per_watt.to_csv(\"Data/Solar/insolation_CA_per_watt.csv\")"
   ]
  },
  {
   "cell_type": "markdown",
   "id": "42e0c489",
   "metadata": {},
   "source": [
    "Convert Wind Speed to Wind Power"
   ]
  },
  {
   "cell_type": "code",
   "execution_count": null,
   "id": "25d6a7a1",
   "metadata": {},
   "outputs": [],
   "source": [
    "ca_wind = np.load(\"Data/Wind/wind_speed_subbasin_CA.csv\")"
   ]
  },
  {
   "cell_type": "code",
   "execution_count": null,
   "id": "0ed379ba",
   "metadata": {},
   "outputs": [],
   "source": [
    "# read data for GE1.5-77 wind turbine model. Source: https://nrel.github.io/turbine-models/DOE_GE_1.5MW_77.html\n",
    "\n",
    "# power rating curve\n",
    "GE_power_curve = pd.read_csv('Data/Wind/DOE_GE_1.5MW_77.csv')\n",
    "\n",
    "rated_wind_speeds = GE_power_curve['Wind Speed [m/s]'].values\n",
    "rated_wind_power = GE_power_curve['Power [kW]'].values\n",
    "\n",
    "# other specs\n",
    "with open(\"Data/Wind/DOE_GE_1.5MW_77.yaml\", 'r') as f:\n",
    "    turbine_specs = yaml.safe_load(f)\n",
    "    cut_in = turbine_specs['cut_in_wind_speed']\n",
    "    cut_out = turbine_specs['cut_out_wind_speed']\n",
    "    rated_wind = turbine_specs['rated_wind_speed']\n",
    "    rated_power = turbine_specs['rated_power']"
   ]
  },
  {
   "cell_type": "code",
   "execution_count": null,
   "id": "f44f9200",
   "metadata": {},
   "outputs": [],
   "source": [
    "def wind_speed_to_energy(wind_speeds):\n",
    "    \"\"\" \n",
    "    Computes wind power based on wind speed input. For wind turbine model GE1.5-77.\n",
    "\n",
    "    Parameters\n",
    "    ----------\n",
    "        wind_speeds: np.ndarray\n",
    "            Time series of wind speeds.\n",
    "\n",
    "    Returns\n",
    "    -------\n",
    "        Time series of wind power capacity factors derived from wind speeds.\n",
    "    \"\"\"\n",
    "\n",
    "    power_output = np.interp(wind_speeds, rated_wind_speeds, rated_wind_power) # interpolate between measured points for wind power\n",
    "\n",
    "    # wind power output is zero, below the cut-in speed\n",
    "    power_output = np.where(wind_speeds < cut_in, 0, power_output)\n",
    "\n",
    "    # wind power output is zero, above the cut-out speed\n",
    "    power_output = np.where(wind_speeds > cut_out, 0, power_output)\n",
    "\n",
    "    # wind power output is maxed out, between rated wind speed and cut-out speed\n",
    "    power_output = np.where((wind_speeds > rated_wind) & (wind_speeds < cut_out), 1, power_output)\n",
    "\n",
    "    # convert power outputs into capacity factor (range: 0 to 1)\n",
    "    capacity_factor = power_output/rated_power\n",
    "\n",
    "    return capacity_factor"
   ]
  }
 ],
 "metadata": {
  "kernelspec": {
   "display_name": "Python 3",
   "language": "python",
   "name": "python3"
  },
  "language_info": {
   "codemirror_mode": {
    "name": "ipython",
    "version": 3
   },
   "file_extension": ".py",
   "mimetype": "text/x-python",
   "name": "python",
   "nbconvert_exporter": "python",
   "pygments_lexer": "ipython3",
   "version": "3.10.2"
  }
 },
 "nbformat": 4,
 "nbformat_minor": 5
}
