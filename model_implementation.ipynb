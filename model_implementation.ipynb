{
 "cells": [
  {
   "cell_type": "code",
   "execution_count": 52,
   "id": "e3b5a5c9",
   "metadata": {},
   "outputs": [],
   "source": [
    "# geospatial analysis\n",
    "import geopandas as gpd\n",
    "import shapely\n",
    "\n",
    "# data analysis\n",
    "import pandas as pd\n",
    "\n",
    "# web scraping\n",
    "import requests\n",
    "from bs4 import BeautifulSoup\n",
    "import time\n",
    "import re"
   ]
  },
  {
   "cell_type": "code",
   "execution_count": 38,
   "id": "a4d0aa7c",
   "metadata": {},
   "outputs": [],
   "source": [
    "# essential variables\n",
    "\n",
    "# let's try to convert everything to EPSG:5070. For more accurate area measurements\n",
    "\n",
    "# boundary for state of California\n",
    "us_states = gpd.read_file(\"Data/Boundaries/cb_2018_us_state_500k/cb_2018_us_state_500k.shp\")\n",
    "us_states.to_crs(\"EPSG:5070\", inplace=True)\n",
    "ca_state = us_states[us_states[\"STUSPS\"] == \"CA\"]\n",
    "\n",
    "# California counties\n",
    "us_counties = gpd.read_file(\"Data/Boundaries/cb_2018_us_county_500k/cb_2018_us_county_500k.shp\")\n",
    "ca_counties = us_counties[us_counties[\"STATEFP\"] == \"06\"]\n",
    "\n",
    "# HUC8 subbasins\n",
    "huc8 = gpd.read_file(\"Data/Boundaries/HUC8_CONUS/HUC8_US.shp\")\n",
    "huc8.to_crs(\"EPSG:5070\", inplace=True)\n",
    "huc8['CA'] = huc8[\"STATES\"].map(lambda x: \"CA\" in x)\n",
    "huc8 = huc8[huc8[\"CA\"]]\n",
    "\n",
    "# intersect with California\n",
    "huc8_ca = gpd.clip(huc8, ca_state)"
   ]
  },
  {
   "cell_type": "markdown",
   "id": "d4df407e",
   "metadata": {},
   "source": [
    "### Land Restrictions"
   ]
  },
  {
   "cell_type": "markdown",
   "id": "b6d24da5",
   "metadata": {},
   "source": [
    "In summary, we can basically ignore land property restrictions.\n",
    "\n",
    "We haven't investigated hosting capacity yet."
   ]
  },
  {
   "cell_type": "code",
   "execution_count": null,
   "id": "2e1b247c",
   "metadata": {},
   "outputs": [],
   "source": [
    "# let's not worry about utilities for now, just for time. and I don't think it's the most important restriction\n",
    "# # utilities map in California\n",
    "# ca_utilities = gpd.read_file(\"Data/Boundaries/ElectricLoadServingEntities_IOU_POU_-6992589901327565970.geojson\")"
   ]
  },
  {
   "cell_type": "code",
   "execution_count": null,
   "id": "bdf5727d",
   "metadata": {},
   "outputs": [],
   "source": [
    "# federal, state, local lands\n",
    "# not too many tribal lands in California so we don't worry about that\n",
    "\n",
    "if False:\n",
    "    # overall takes 30 seconds\n",
    "    us_lands = gpd.read_file(\"Data/Boundaries/USA_Federal_Lands_1879006603790792540.geojson\")\n",
    "\n",
    "    # filter invalid geometries\n",
    "    us_lands = us_lands[~us_lands['geometry'].isna()]\n",
    "    us_lands = us_lands[us_lands['geometry'].is_valid]\n",
    "\n",
    "    us_lands.to_crs(\"EPSG:5070\", inplace=True)\n",
    "\n",
    "    # first filter US lands to California\n",
    "    ca_geometry = ca_state.iloc[0].geometry\n",
    "    us_lands_ca = us_lands[us_lands.intersects(ca_geometry)]"
   ]
  },
  {
   "cell_type": "code",
   "execution_count": null,
   "id": "fb265a4c",
   "metadata": {},
   "outputs": [
    {
     "name": "stdout",
     "output_type": "stream",
     "text": [
      "355\n"
     ]
    }
   ],
   "source": [
    "# cut out US lands from California subbasins\n",
    "\n",
    "# overall, turns out that no HUC8 (besides some island) is fully contained in federal land.\n",
    "\n",
    "if False:\n",
    "    # takes around 30 seconds\n",
    "    all_us_land = us_lands_ca.union_all()\n",
    "\n",
    "    subbasin_us_land = []\n",
    "\n",
    "    for idx, row in huc8_ca.iterrows():\n",
    "        if shapely.contains(all_us_land, row['geometry']):\n",
    "            print(idx)\n",
    "            subbasin_us_land.append(True)\n",
    "        else:\n",
    "            subbasin_us_land.append(False)\n",
    "\n",
    "    huc8_ca[\"Government_Land\"] = subbasin_us_land\n",
    "    huc8_ca = huc8_ca[~huc8_ca[\"Government_Land\"]]"
   ]
  },
  {
   "cell_type": "markdown",
   "id": "2f29a7ba",
   "metadata": {},
   "source": [
    "### Grid Data (Emissions, Water Scarcity, Cost)"
   ]
  },
  {
   "cell_type": "markdown",
   "id": "18885b9b",
   "metadata": {},
   "source": [
    "Emissions and Water Scarcity"
   ]
  },
  {
   "cell_type": "code",
   "execution_count": 39,
   "id": "dc42ee00",
   "metadata": {},
   "outputs": [],
   "source": [
    "# let's go with Siddik et al. data (2021) for now.\n",
    "water_carbon = pd.read_excel(\"Data/Footprint/Siddik/SI_XLS/Results.xlsx\", sheet_name=\"Table 3\", skiprows=1)\n",
    "\n",
    "# filter to only HUC rows\n",
    "water_carbon = water_carbon[~water_carbon['WSF_1MW_DC'].isna()]\n",
    "\n",
    "# turn HUC8 into string format\n",
    "water_carbon['HUC8_str'] = water_carbon['HUC8'].map(lambda x: ''.join(['0']*(8-len(str(x)))) + str(x))\n",
    "\n",
    "# merge with California data\n",
    "huc8_ca = huc8_ca.merge(water_carbon, how=\"inner\", left_on=\"HUC8\", right_on=\"HUC8_str\")"
   ]
  },
  {
   "cell_type": "markdown",
   "id": "87150e65",
   "metadata": {},
   "source": [
    "Electricity Cost"
   ]
  },
  {
   "cell_type": "code",
   "execution_count": 54,
   "id": "1fe08d8c",
   "metadata": {},
   "outputs": [
    {
     "data": {
      "text/plain": [
       "['30']"
      ]
     },
     "execution_count": 54,
     "metadata": {},
     "output_type": "execute_result"
    }
   ],
   "source": [
    "county_regex = re.compile(rf\"The average residential electricity rate in Alameda County, CA is (\\d+) ¢/kWh\")\n",
    "\n",
    "county_regex.findall(\"The average residential electricity rate in Alameda County, CA is 30 ¢/kWh\")"
   ]
  },
  {
   "cell_type": "code",
   "execution_count": null,
   "id": "92c4c1c4",
   "metadata": {},
   "outputs": [],
   "source": [
    "# get cost for each California county\n",
    "\n",
    "ca_counties[\"Electricity Price (cents/kWh)\"] = -1 # place holder for now.\n",
    "\n",
    "# find EnergySage URL\n",
    "energy_sage_ca = \"https://www.energysage.com/local-data/electricity-cost/ca/\"\n",
    "\n",
    "for _, county in ca_counties.iterrows():\n",
    "    county_suffix = county[\"NAME\"].replace(\" \", \"-\").lower() + \"-county\"\n",
    "\n",
    "    county_energy_sage_url = energy_sage_ca + county_suffix\n",
    "\n",
    "    # sounds like all of the links work fine\n",
    "    county_energy_sage_html = requests.get(county_energy_sage_url)\n",
    "\n",
    "    county_regex = re.compile(rf\"The average residential electricity rate in {county[\"NAME\"]} County, CA is (\\d+) ¢/kWh\")\n",
    "\n",
    "    # TODO I left off here - Richard\n",
    "\n",
    "    try:\n",
    "        county_energy_sage_html = requests.get(county_energy_sage_url)\n",
    "        matching = county_regex.findall(county_energy_sage_html)\n",
    "\n",
    "        for matches in matching:\n",
    "             = county_regex\n",
    "\n",
    "    except:\n",
    "        print(county_suffix)\n",
    "\n",
    "\n",
    "\n",
    "\n",
    "# convert units (cents/kWh) to ($/MW)"
   ]
  },
  {
   "cell_type": "code",
   "execution_count": null,
   "id": "637150a1",
   "metadata": {},
   "outputs": [],
   "source": [
    "# I can only think of using EnergySage for most accurate prices.\n",
    "# https://www.energysage.com/local-data/electricity-cost/ca/ TODO webscrape\n",
    "# https://www.gridstatus.io/products/api. Or, we can use this Grid Status website.\n",
    "\n",
    "\n",
    "energy_sage_ca = \"https://www.energysage.com/local-data/electricity-cost/ca/\"\n",
    "energy_sage_html = requests.get(energy_sage_ca)\n",
    "energy_sage_soup = BeautifulSoup(energy_sage_html.text, 'html.parser')"
   ]
  },
  {
   "cell_type": "code",
   "execution_count": 30,
   "id": "7a6dfebe",
   "metadata": {},
   "outputs": [
    {
     "name": "stdout",
     "output_type": "stream",
     "text": [
      "/local-data/electricity-cost/ca/alameda-county/\n",
      "/local-data/electricity-cost/ca/amador-county/\n",
      "/local-data/electricity-cost/ca/butte-county/\n",
      "/local-data/electricity-cost/ca/calaveras-county/\n",
      "/local-data/electricity-cost/ca/colusa-county/\n",
      "/local-data/electricity-cost/ca/contra-costa-county/\n",
      "/local-data/electricity-cost/ca/el-dorado-county/\n",
      "/local-data/electricity-cost/ca/fresno-county/\n",
      "/local-data/electricity-cost/ca/humboldt-county/\n",
      "/local-data/electricity-cost/ca/imperial-county/\n",
      "/local-data/electricity-cost/ca/inyo-county/\n",
      "/local-data/electricity-cost/ca/kern-county/\n",
      "/local-data/electricity-cost/ca/kings-county/\n",
      "/local-data/electricity-cost/ca/lake-county/\n",
      "/local-data/electricity-cost/ca/los-angeles-county/\n",
      "/local-data/electricity-cost/ca/madera-county/\n",
      "/local-data/electricity-cost/ca/marin-county/\n",
      "/local-data/electricity-cost/ca/mariposa-county/\n",
      "/local-data/electricity-cost/ca/mendocino-county/\n",
      "/local-data/electricity-cost/ca/merced-county/\n",
      "/local-data/electricity-cost/ca/monterey-county/\n",
      "/local-data/electricity-cost/ca/napa-county/\n",
      "/local-data/electricity-cost/ca/nevada-county/\n",
      "/local-data/electricity-cost/ca/orange-county/\n",
      "/local-data/electricity-cost/ca/placer-county/\n",
      "/local-data/electricity-cost/ca/plumas-county/\n",
      "/local-data/electricity-cost/ca/riverside-county/\n",
      "/local-data/electricity-cost/ca/sacramento-county/\n",
      "/local-data/electricity-cost/ca/san-benito-county/\n",
      "/local-data/electricity-cost/ca/san-bernardino-county/\n",
      "/local-data/electricity-cost/ca/san-diego-county/\n",
      "/local-data/electricity-cost/ca/san-francisco-county/\n",
      "/local-data/electricity-cost/ca/san-joaquin-county/\n",
      "/local-data/electricity-cost/ca/san-luis-obispo-county/\n",
      "/local-data/electricity-cost/ca/san-mateo-county/\n",
      "/local-data/electricity-cost/ca/santa-barbara-county/\n",
      "/local-data/electricity-cost/ca/santa-clara-county/\n",
      "/local-data/electricity-cost/ca/santa-cruz-county/\n",
      "/local-data/electricity-cost/ca/shasta-county/\n",
      "/local-data/electricity-cost/ca/siskiyou-county/\n",
      "/local-data/electricity-cost/ca/solano-county/\n",
      "/local-data/electricity-cost/ca/sonoma-county/\n",
      "/local-data/electricity-cost/ca/stanislaus-county/\n",
      "/local-data/electricity-cost/ca/sutter-county/\n",
      "/local-data/electricity-cost/ca/tehama-county/\n",
      "/local-data/electricity-cost/ca/tulare-county/\n",
      "/local-data/electricity-cost/ca/tuolumne-county/\n",
      "/local-data/electricity-cost/ca/ventura-county/\n",
      "/local-data/electricity-cost/ca/yolo-county/\n",
      "/local-data/electricity-cost/ca/yuba-county/\n"
     ]
    }
   ],
   "source": [
    "for link in energy_sage_soup.find_all(\"a\"):\n",
    "    if 'county' in link.get(\"href\"):\n",
    "        print(link.get(\"href\"))"
   ]
  },
  {
   "cell_type": "markdown",
   "id": "3511bccc",
   "metadata": {},
   "source": [
    "### Solar + Wind Data (Emissions, Water Scarcity, Cost)"
   ]
  },
  {
   "cell_type": "markdown",
   "id": "70fee8c5",
   "metadata": {},
   "source": []
  }
 ],
 "metadata": {
  "kernelspec": {
   "display_name": "Python 3",
   "language": "python",
   "name": "python3"
  },
  "language_info": {
   "codemirror_mode": {
    "name": "ipython",
    "version": 3
   },
   "file_extension": ".py",
   "mimetype": "text/x-python",
   "name": "python",
   "nbconvert_exporter": "python",
   "pygments_lexer": "ipython3",
   "version": "3.10.2"
  }
 },
 "nbformat": 4,
 "nbformat_minor": 5
}
