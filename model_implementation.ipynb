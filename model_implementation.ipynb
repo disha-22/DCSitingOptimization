{
 "cells": [
  {
   "cell_type": "code",
   "execution_count": 1,
   "id": "e3b5a5c9",
   "metadata": {},
   "outputs": [],
   "source": [
    "# geospatial analysis\n",
    "import geopandas as gpd\n",
    "import shapely"
   ]
  },
  {
   "cell_type": "code",
   "execution_count": 9,
   "id": "a4d0aa7c",
   "metadata": {},
   "outputs": [],
   "source": [
    "# essential variables\n",
    "\n",
    "# let's try to convert everything to EPSG:5070. For more accurate area measurements\n",
    "\n",
    "# boundary for state of California\n",
    "us_states = gpd.read_file(\"Data/Boundaries/cb_2018_us_state_500k/cb_2018_us_state_500k.shp\")\n",
    "us_states.to_crs(\"EPSG:5070\", inplace=True)\n",
    "ca_state = us_states[us_states[\"STUSPS\"] == \"CA\"]\n",
    "\n",
    "# HUC8 subbasins\n",
    "huc8 = gpd.read_file(\"Data/Boundaries/HUC8_CONUS/HUC8_US.shp\")\n",
    "huc8.to_crs(\"EPSG:5070\", inplace=True)\n",
    "huc8['CA'] = huc8[\"STATES\"].map(lambda x: \"CA\" in x)\n",
    "huc8 = huc8[huc8[\"CA\"]]\n",
    "\n",
    "# intersect with California\n",
    "huc8_ca = gpd.clip(huc8, ca_state)"
   ]
  },
  {
   "cell_type": "markdown",
   "id": "d4df407e",
   "metadata": {},
   "source": [
    "### Land Restrictions"
   ]
  },
  {
   "cell_type": "markdown",
   "id": "b6d24da5",
   "metadata": {},
   "source": [
    "In summary, we can basically ignore land property restrictions.\n",
    "\n",
    "We haven't investigated hosting capacity yet."
   ]
  },
  {
   "cell_type": "code",
   "execution_count": null,
   "id": "2e1b247c",
   "metadata": {},
   "outputs": [],
   "source": [
    "# let's not worry about utilities for now, just for time. and I don't think it's the most important restriction\n",
    "# # utilities map in California\n",
    "# ca_utilities = gpd.read_file(\"Data/Boundaries/ElectricLoadServingEntities_IOU_POU_-6992589901327565970.geojson\")"
   ]
  },
  {
   "cell_type": "code",
   "execution_count": 3,
   "id": "bdf5727d",
   "metadata": {},
   "outputs": [],
   "source": [
    "# federal, state, local lands\n",
    "# not too many tribal lands in California so we don't worry about that\n",
    "\n",
    "# overall takes 30 seconds\n",
    "us_lands = gpd.read_file(\"Data/Boundaries/USA_Federal_Lands_1879006603790792540.geojson\")\n",
    "\n",
    "# filter invalid geometries\n",
    "us_lands = us_lands[~us_lands['geometry'].isna()]\n",
    "us_lands = us_lands[us_lands['geometry'].is_valid]\n",
    "\n",
    "us_lands.to_crs(\"EPSG:5070\", inplace=True)\n",
    "\n",
    "# first filter US lands to California\n",
    "ca_geometry = ca_state.iloc[0].geometry\n",
    "us_lands_ca = us_lands[us_lands.intersects(ca_geometry)]"
   ]
  },
  {
   "cell_type": "code",
   "execution_count": null,
   "id": "fb265a4c",
   "metadata": {},
   "outputs": [
    {
     "name": "stdout",
     "output_type": "stream",
     "text": [
      "355\n"
     ]
    }
   ],
   "source": [
    "# cut out US lands from California subbasins\n",
    "\n",
    "# overall, turns out that no HUC8 (besides some island) is fully contained in federal land.\n",
    "\n",
    "# takes around 30 seconds\n",
    "all_us_land = us_lands_ca.union_all()\n",
    "\n",
    "subbasin_us_land = []\n",
    "\n",
    "for idx, row in huc8_ca.iterrows():\n",
    "    if shapely.contains(all_us_land, row['geometry']):\n",
    "        print(idx)\n",
    "        subbasin_us_land.append(True)\n",
    "    else:\n",
    "        subbasin_us_land.append(False)\n",
    "\n",
    "huc8_ca[\"Government_Land\"] = subbasin_us_land\n",
    "huc8_ca = huc8_ca[~huc8_ca[\"Government_Land\"]]"
   ]
  },
  {
   "cell_type": "markdown",
   "id": "2f29a7ba",
   "metadata": {},
   "source": [
    "### Grid Data (Emissions, Water Scarcity, Cost)"
   ]
  },
  {
   "cell_type": "code",
   "execution_count": null,
   "id": "dc42ee00",
   "metadata": {},
   "outputs": [],
   "source": []
  },
  {
   "cell_type": "markdown",
   "id": "3511bccc",
   "metadata": {},
   "source": [
    "### Solar + Wind Data (Emissions, Water Scarcity, Cost)"
   ]
  },
  {
   "cell_type": "markdown",
   "id": "70fee8c5",
   "metadata": {},
   "source": []
  }
 ],
 "metadata": {
  "kernelspec": {
   "display_name": "Python 3",
   "language": "python",
   "name": "python3"
  },
  "language_info": {
   "codemirror_mode": {
    "name": "ipython",
    "version": 3
   },
   "file_extension": ".py",
   "mimetype": "text/x-python",
   "name": "python",
   "nbconvert_exporter": "python",
   "pygments_lexer": "ipython3",
   "version": "3.10.2"
  }
 },
 "nbformat": 4,
 "nbformat_minor": 5
}
